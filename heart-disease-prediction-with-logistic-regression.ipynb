{
 "cells": [
  {
   "cell_type": "markdown",
   "id": "f8cc2e6f",
   "metadata": {
    "dc": {
     "key": "3"
    },
    "deletable": false,
    "papermill": {
     "duration": 0.007242,
     "end_time": "2022-05-15T21:38:52.175009",
     "exception": false,
     "start_time": "2022-05-15T21:38:52.167767",
     "status": "completed"
    },
    "run_control": {
     "frozen": true
    },
    "tags": [
     "context"
    ]
   },
   "source": [
    "## 1. Heart disease and potential risk factors\n",
    "<p>Every year, millions of people develop some form of heart disease, and heart disease is the leading cause of death in both men and women in the United States and around the world. Many risk factors for heart disease have been identified by statistical analysis, including age, blood pressure, total cholesterol, diabetes, hypertension, a family history of heart disease, obesity, a lack of physical activity, and so on. In this notebook, we'll conduct statistical tests and regression models on the Cleveland heart disease dataset to analyze one specific factor: maximum heart rate during exercise and how it relates to a higher risk of developing heart disease.</p>\n",
    "<p><img src=\"https://www.mountelizabeth.com.sg/images/default-source/default-album/heart-rate-fast-tachycardia.jpg?sfvrsn=239fcc11_2\" height=\"300\" width=\"300\"></p>"
   ]
  },
  {
   "cell_type": "code",
   "execution_count": 1,
   "id": "f5b4bb82",
   "metadata": {
    "dc": {
     "key": "3"
    },
    "execution": {
     "iopub.execute_input": "2022-05-15T21:38:52.191042Z",
     "iopub.status.busy": "2022-05-15T21:38:52.188898Z",
     "iopub.status.idle": "2022-05-15T21:38:52.389411Z",
     "shell.execute_reply": "2022-05-15T21:38:52.387397Z"
    },
    "papermill": {
     "duration": 0.210883,
     "end_time": "2022-05-15T21:38:52.391946",
     "exception": false,
     "start_time": "2022-05-15T21:38:52.181063",
     "status": "completed"
    },
    "tags": [
     "sample_code"
    ]
   },
   "outputs": [
    {
     "data": {
      "text/html": [
       "<table class=\"dataframe\">\n",
       "<caption>A data.frame: 5 × 14</caption>\n",
       "<thead>\n",
       "\t<tr><th></th><th scope=col>age</th><th scope=col>sex</th><th scope=col>cp</th><th scope=col>trestbps</th><th scope=col>chol</th><th scope=col>fbs</th><th scope=col>restecg</th><th scope=col>thalach</th><th scope=col>exang</th><th scope=col>oldpeak</th><th scope=col>slope</th><th scope=col>ca</th><th scope=col>thal</th><th scope=col>class</th></tr>\n",
       "\t<tr><th></th><th scope=col>&lt;int&gt;</th><th scope=col>&lt;int&gt;</th><th scope=col>&lt;int&gt;</th><th scope=col>&lt;int&gt;</th><th scope=col>&lt;int&gt;</th><th scope=col>&lt;int&gt;</th><th scope=col>&lt;int&gt;</th><th scope=col>&lt;int&gt;</th><th scope=col>&lt;int&gt;</th><th scope=col>&lt;dbl&gt;</th><th scope=col>&lt;int&gt;</th><th scope=col>&lt;int&gt;</th><th scope=col>&lt;int&gt;</th><th scope=col>&lt;int&gt;</th></tr>\n",
       "</thead>\n",
       "<tbody>\n",
       "\t<tr><th scope=row>1</th><td>63</td><td>1</td><td>1</td><td>145</td><td>233</td><td>1</td><td>2</td><td>150</td><td>0</td><td>2.3</td><td>3</td><td>0</td><td>6</td><td>0</td></tr>\n",
       "\t<tr><th scope=row>2</th><td>67</td><td>1</td><td>4</td><td>160</td><td>286</td><td>0</td><td>2</td><td>108</td><td>1</td><td>1.5</td><td>2</td><td>3</td><td>3</td><td>2</td></tr>\n",
       "\t<tr><th scope=row>3</th><td>67</td><td>1</td><td>4</td><td>120</td><td>229</td><td>0</td><td>2</td><td>129</td><td>1</td><td>2.6</td><td>2</td><td>2</td><td>7</td><td>1</td></tr>\n",
       "\t<tr><th scope=row>4</th><td>37</td><td>1</td><td>3</td><td>130</td><td>250</td><td>0</td><td>0</td><td>187</td><td>0</td><td>3.5</td><td>3</td><td>0</td><td>3</td><td>0</td></tr>\n",
       "\t<tr><th scope=row>5</th><td>41</td><td>0</td><td>2</td><td>130</td><td>204</td><td>0</td><td>2</td><td>172</td><td>0</td><td>1.4</td><td>1</td><td>0</td><td>3</td><td>0</td></tr>\n",
       "</tbody>\n",
       "</table>\n"
      ],
      "text/latex": [
       "A data.frame: 5 × 14\n",
       "\\begin{tabular}{r|llllllllllllll}\n",
       "  & age & sex & cp & trestbps & chol & fbs & restecg & thalach & exang & oldpeak & slope & ca & thal & class\\\\\n",
       "  & <int> & <int> & <int> & <int> & <int> & <int> & <int> & <int> & <int> & <dbl> & <int> & <int> & <int> & <int>\\\\\n",
       "\\hline\n",
       "\t1 & 63 & 1 & 1 & 145 & 233 & 1 & 2 & 150 & 0 & 2.3 & 3 & 0 & 6 & 0\\\\\n",
       "\t2 & 67 & 1 & 4 & 160 & 286 & 0 & 2 & 108 & 1 & 1.5 & 2 & 3 & 3 & 2\\\\\n",
       "\t3 & 67 & 1 & 4 & 120 & 229 & 0 & 2 & 129 & 1 & 2.6 & 2 & 2 & 7 & 1\\\\\n",
       "\t4 & 37 & 1 & 3 & 130 & 250 & 0 & 0 & 187 & 0 & 3.5 & 3 & 0 & 3 & 0\\\\\n",
       "\t5 & 41 & 0 & 2 & 130 & 204 & 0 & 2 & 172 & 0 & 1.4 & 1 & 0 & 3 & 0\\\\\n",
       "\\end{tabular}\n"
      ],
      "text/markdown": [
       "\n",
       "A data.frame: 5 × 14\n",
       "\n",
       "| <!--/--> | age &lt;int&gt; | sex &lt;int&gt; | cp &lt;int&gt; | trestbps &lt;int&gt; | chol &lt;int&gt; | fbs &lt;int&gt; | restecg &lt;int&gt; | thalach &lt;int&gt; | exang &lt;int&gt; | oldpeak &lt;dbl&gt; | slope &lt;int&gt; | ca &lt;int&gt; | thal &lt;int&gt; | class &lt;int&gt; |\n",
       "|---|---|---|---|---|---|---|---|---|---|---|---|---|---|---|\n",
       "| 1 | 63 | 1 | 1 | 145 | 233 | 1 | 2 | 150 | 0 | 2.3 | 3 | 0 | 6 | 0 |\n",
       "| 2 | 67 | 1 | 4 | 160 | 286 | 0 | 2 | 108 | 1 | 1.5 | 2 | 3 | 3 | 2 |\n",
       "| 3 | 67 | 1 | 4 | 120 | 229 | 0 | 2 | 129 | 1 | 2.6 | 2 | 2 | 7 | 1 |\n",
       "| 4 | 37 | 1 | 3 | 130 | 250 | 0 | 0 | 187 | 0 | 3.5 | 3 | 0 | 3 | 0 |\n",
       "| 5 | 41 | 0 | 2 | 130 | 204 | 0 | 2 | 172 | 0 | 1.4 | 1 | 0 | 3 | 0 |\n",
       "\n"
      ],
      "text/plain": [
       "  age sex cp trestbps chol fbs restecg thalach exang oldpeak slope ca thal\n",
       "1 63  1   1  145      233  1   2       150     0     2.3     3     0  6   \n",
       "2 67  1   4  160      286  0   2       108     1     1.5     2     3  3   \n",
       "3 67  1   4  120      229  0   2       129     1     2.6     2     2  7   \n",
       "4 37  1   3  130      250  0   0       187     0     3.5     3     0  3   \n",
       "5 41  0   2  130      204  0   2       172     0     1.4     1     0  3   \n",
       "  class\n",
       "1 0    \n",
       "2 2    \n",
       "3 1    \n",
       "4 0    \n",
       "5 0    "
      ]
     },
     "metadata": {},
     "output_type": "display_data"
    }
   ],
   "source": [
    "# Read datasets Cleveland_hd.csv into hd_data\n",
    "hd_data <- read.csv(\"../input/heart-disease-from-cleveland/Cleveland_hd.csv\")\n",
    "\n",
    "# take a look at the first 5 rows of hd_data\n",
    "head(hd_data, n= 5)"
   ]
  },
  {
   "cell_type": "markdown",
   "id": "260909d6",
   "metadata": {
    "dc": {
     "key": "10"
    },
    "deletable": false,
    "papermill": {
     "duration": 0.006336,
     "end_time": "2022-05-15T21:38:52.404655",
     "exception": false,
     "start_time": "2022-05-15T21:38:52.398319",
     "status": "completed"
    },
    "run_control": {
     "frozen": true
    },
    "tags": [
     "context"
    ]
   },
   "source": [
    "## 2. Converting diagnosis class into outcome variable\n",
    "<p>We discovered that the outcome variable <code>class</code> contains more than two levels. Any non-zero value can be coded as a \"event\" according to the codebook. To indicate a binary 1/0 outcome, let's construct a new variable named <code>hd</code>.</p>\n",
    "<p>There are a few other categorical/discrete variables in the dataset. Let's also convert sex into a 'factor' for next step analysis. Otherwise, R will treat this as continuous by default.</p>\n",
    "<p>The full data dictionary is also displayed here.</p>\n",
    "<p><img src=\"https://assets.datacamp.com/production/project_445/img/datadict.png\" height=\"500\" width=\"500\"></p>"
   ]
  },
  {
   "cell_type": "code",
   "execution_count": 2,
   "id": "22a44cf0",
   "metadata": {
    "dc": {
     "key": "10"
    },
    "execution": {
     "iopub.execute_input": "2022-05-15T21:38:52.456182Z",
     "iopub.status.busy": "2022-05-15T21:38:52.418897Z",
     "iopub.status.idle": "2022-05-15T21:38:53.696515Z",
     "shell.execute_reply": "2022-05-15T21:38:53.694788Z"
    },
    "papermill": {
     "duration": 1.287881,
     "end_time": "2022-05-15T21:38:53.698800",
     "exception": false,
     "start_time": "2022-05-15T21:38:52.410919",
     "status": "completed"
    },
    "tags": [
     "sample_code"
    ]
   },
   "outputs": [
    {
     "name": "stderr",
     "output_type": "stream",
     "text": [
      "── \u001b[1mAttaching packages\u001b[22m ─────────────────────────────────────── tidyverse 1.3.1 ──\n",
      "\n",
      "\u001b[32m✔\u001b[39m \u001b[34mggplot2\u001b[39m 3.3.5     \u001b[32m✔\u001b[39m \u001b[34mpurrr  \u001b[39m 0.3.4\n",
      "\u001b[32m✔\u001b[39m \u001b[34mtibble \u001b[39m 3.1.6     \u001b[32m✔\u001b[39m \u001b[34mdplyr  \u001b[39m 1.0.8\n",
      "\u001b[32m✔\u001b[39m \u001b[34mtidyr  \u001b[39m 1.2.0     \u001b[32m✔\u001b[39m \u001b[34mstringr\u001b[39m 1.4.0\n",
      "\u001b[32m✔\u001b[39m \u001b[34mreadr  \u001b[39m 2.1.2     \u001b[32m✔\u001b[39m \u001b[34mforcats\u001b[39m 0.5.1\n",
      "\n",
      "── \u001b[1mConflicts\u001b[22m ────────────────────────────────────────── tidyverse_conflicts() ──\n",
      "\u001b[31m✖\u001b[39m \u001b[34mdplyr\u001b[39m::\u001b[32mfilter()\u001b[39m masks \u001b[34mstats\u001b[39m::filter()\n",
      "\u001b[31m✖\u001b[39m \u001b[34mdplyr\u001b[39m::\u001b[32mlag()\u001b[39m    masks \u001b[34mstats\u001b[39m::lag()\n",
      "\n"
     ]
    },
    {
     "data": {
      "text/html": [
       "<table class=\"dataframe\">\n",
       "<caption>A data.frame: 6 × 15</caption>\n",
       "<thead>\n",
       "\t<tr><th></th><th scope=col>age</th><th scope=col>sex</th><th scope=col>cp</th><th scope=col>trestbps</th><th scope=col>chol</th><th scope=col>fbs</th><th scope=col>restecg</th><th scope=col>thalach</th><th scope=col>exang</th><th scope=col>oldpeak</th><th scope=col>slope</th><th scope=col>ca</th><th scope=col>thal</th><th scope=col>class</th><th scope=col>hd</th></tr>\n",
       "\t<tr><th></th><th scope=col>&lt;int&gt;</th><th scope=col>&lt;int&gt;</th><th scope=col>&lt;int&gt;</th><th scope=col>&lt;int&gt;</th><th scope=col>&lt;int&gt;</th><th scope=col>&lt;int&gt;</th><th scope=col>&lt;int&gt;</th><th scope=col>&lt;int&gt;</th><th scope=col>&lt;int&gt;</th><th scope=col>&lt;dbl&gt;</th><th scope=col>&lt;int&gt;</th><th scope=col>&lt;int&gt;</th><th scope=col>&lt;int&gt;</th><th scope=col>&lt;int&gt;</th><th scope=col>&lt;dbl&gt;</th></tr>\n",
       "</thead>\n",
       "<tbody>\n",
       "\t<tr><th scope=row>1</th><td>63</td><td>1</td><td>1</td><td>145</td><td>233</td><td>1</td><td>2</td><td>150</td><td>0</td><td>2.3</td><td>3</td><td>0</td><td>6</td><td>0</td><td>0</td></tr>\n",
       "\t<tr><th scope=row>2</th><td>67</td><td>1</td><td>4</td><td>160</td><td>286</td><td>0</td><td>2</td><td>108</td><td>1</td><td>1.5</td><td>2</td><td>3</td><td>3</td><td>2</td><td>1</td></tr>\n",
       "\t<tr><th scope=row>3</th><td>67</td><td>1</td><td>4</td><td>120</td><td>229</td><td>0</td><td>2</td><td>129</td><td>1</td><td>2.6</td><td>2</td><td>2</td><td>7</td><td>1</td><td>1</td></tr>\n",
       "\t<tr><th scope=row>4</th><td>37</td><td>1</td><td>3</td><td>130</td><td>250</td><td>0</td><td>0</td><td>187</td><td>0</td><td>3.5</td><td>3</td><td>0</td><td>3</td><td>0</td><td>0</td></tr>\n",
       "\t<tr><th scope=row>5</th><td>41</td><td>0</td><td>2</td><td>130</td><td>204</td><td>0</td><td>2</td><td>172</td><td>0</td><td>1.4</td><td>1</td><td>0</td><td>3</td><td>0</td><td>0</td></tr>\n",
       "\t<tr><th scope=row>6</th><td>56</td><td>1</td><td>2</td><td>120</td><td>236</td><td>0</td><td>0</td><td>178</td><td>0</td><td>0.8</td><td>1</td><td>0</td><td>3</td><td>0</td><td>0</td></tr>\n",
       "</tbody>\n",
       "</table>\n"
      ],
      "text/latex": [
       "A data.frame: 6 × 15\n",
       "\\begin{tabular}{r|lllllllllllllll}\n",
       "  & age & sex & cp & trestbps & chol & fbs & restecg & thalach & exang & oldpeak & slope & ca & thal & class & hd\\\\\n",
       "  & <int> & <int> & <int> & <int> & <int> & <int> & <int> & <int> & <int> & <dbl> & <int> & <int> & <int> & <int> & <dbl>\\\\\n",
       "\\hline\n",
       "\t1 & 63 & 1 & 1 & 145 & 233 & 1 & 2 & 150 & 0 & 2.3 & 3 & 0 & 6 & 0 & 0\\\\\n",
       "\t2 & 67 & 1 & 4 & 160 & 286 & 0 & 2 & 108 & 1 & 1.5 & 2 & 3 & 3 & 2 & 1\\\\\n",
       "\t3 & 67 & 1 & 4 & 120 & 229 & 0 & 2 & 129 & 1 & 2.6 & 2 & 2 & 7 & 1 & 1\\\\\n",
       "\t4 & 37 & 1 & 3 & 130 & 250 & 0 & 0 & 187 & 0 & 3.5 & 3 & 0 & 3 & 0 & 0\\\\\n",
       "\t5 & 41 & 0 & 2 & 130 & 204 & 0 & 2 & 172 & 0 & 1.4 & 1 & 0 & 3 & 0 & 0\\\\\n",
       "\t6 & 56 & 1 & 2 & 120 & 236 & 0 & 0 & 178 & 0 & 0.8 & 1 & 0 & 3 & 0 & 0\\\\\n",
       "\\end{tabular}\n"
      ],
      "text/markdown": [
       "\n",
       "A data.frame: 6 × 15\n",
       "\n",
       "| <!--/--> | age &lt;int&gt; | sex &lt;int&gt; | cp &lt;int&gt; | trestbps &lt;int&gt; | chol &lt;int&gt; | fbs &lt;int&gt; | restecg &lt;int&gt; | thalach &lt;int&gt; | exang &lt;int&gt; | oldpeak &lt;dbl&gt; | slope &lt;int&gt; | ca &lt;int&gt; | thal &lt;int&gt; | class &lt;int&gt; | hd &lt;dbl&gt; |\n",
       "|---|---|---|---|---|---|---|---|---|---|---|---|---|---|---|---|\n",
       "| 1 | 63 | 1 | 1 | 145 | 233 | 1 | 2 | 150 | 0 | 2.3 | 3 | 0 | 6 | 0 | 0 |\n",
       "| 2 | 67 | 1 | 4 | 160 | 286 | 0 | 2 | 108 | 1 | 1.5 | 2 | 3 | 3 | 2 | 1 |\n",
       "| 3 | 67 | 1 | 4 | 120 | 229 | 0 | 2 | 129 | 1 | 2.6 | 2 | 2 | 7 | 1 | 1 |\n",
       "| 4 | 37 | 1 | 3 | 130 | 250 | 0 | 0 | 187 | 0 | 3.5 | 3 | 0 | 3 | 0 | 0 |\n",
       "| 5 | 41 | 0 | 2 | 130 | 204 | 0 | 2 | 172 | 0 | 1.4 | 1 | 0 | 3 | 0 | 0 |\n",
       "| 6 | 56 | 1 | 2 | 120 | 236 | 0 | 0 | 178 | 0 | 0.8 | 1 | 0 | 3 | 0 | 0 |\n",
       "\n"
      ],
      "text/plain": [
       "  age sex cp trestbps chol fbs restecg thalach exang oldpeak slope ca thal\n",
       "1 63  1   1  145      233  1   2       150     0     2.3     3     0  6   \n",
       "2 67  1   4  160      286  0   2       108     1     1.5     2     3  3   \n",
       "3 67  1   4  120      229  0   2       129     1     2.6     2     2  7   \n",
       "4 37  1   3  130      250  0   0       187     0     3.5     3     0  3   \n",
       "5 41  0   2  130      204  0   2       172     0     1.4     1     0  3   \n",
       "6 56  1   2  120      236  0   0       178     0     0.8     1     0  3   \n",
       "  class hd\n",
       "1 0     0 \n",
       "2 2     1 \n",
       "3 1     1 \n",
       "4 0     0 \n",
       "5 0     0 \n",
       "6 0     0 "
      ]
     },
     "metadata": {},
     "output_type": "display_data"
    },
    {
     "data": {
      "text/html": [
       "<table class=\"dataframe\">\n",
       "<caption>A data.frame: 6 × 15</caption>\n",
       "<thead>\n",
       "\t<tr><th></th><th scope=col>age</th><th scope=col>sex</th><th scope=col>cp</th><th scope=col>trestbps</th><th scope=col>chol</th><th scope=col>fbs</th><th scope=col>restecg</th><th scope=col>thalach</th><th scope=col>exang</th><th scope=col>oldpeak</th><th scope=col>slope</th><th scope=col>ca</th><th scope=col>thal</th><th scope=col>class</th><th scope=col>hd</th></tr>\n",
       "\t<tr><th></th><th scope=col>&lt;int&gt;</th><th scope=col>&lt;fct&gt;</th><th scope=col>&lt;int&gt;</th><th scope=col>&lt;int&gt;</th><th scope=col>&lt;int&gt;</th><th scope=col>&lt;int&gt;</th><th scope=col>&lt;int&gt;</th><th scope=col>&lt;int&gt;</th><th scope=col>&lt;int&gt;</th><th scope=col>&lt;dbl&gt;</th><th scope=col>&lt;int&gt;</th><th scope=col>&lt;int&gt;</th><th scope=col>&lt;int&gt;</th><th scope=col>&lt;int&gt;</th><th scope=col>&lt;dbl&gt;</th></tr>\n",
       "</thead>\n",
       "<tbody>\n",
       "\t<tr><th scope=row>1</th><td>63</td><td>Male  </td><td>1</td><td>145</td><td>233</td><td>1</td><td>2</td><td>150</td><td>0</td><td>2.3</td><td>3</td><td>0</td><td>6</td><td>0</td><td>0</td></tr>\n",
       "\t<tr><th scope=row>2</th><td>67</td><td>Male  </td><td>4</td><td>160</td><td>286</td><td>0</td><td>2</td><td>108</td><td>1</td><td>1.5</td><td>2</td><td>3</td><td>3</td><td>2</td><td>1</td></tr>\n",
       "\t<tr><th scope=row>3</th><td>67</td><td>Male  </td><td>4</td><td>120</td><td>229</td><td>0</td><td>2</td><td>129</td><td>1</td><td>2.6</td><td>2</td><td>2</td><td>7</td><td>1</td><td>1</td></tr>\n",
       "\t<tr><th scope=row>4</th><td>37</td><td>Male  </td><td>3</td><td>130</td><td>250</td><td>0</td><td>0</td><td>187</td><td>0</td><td>3.5</td><td>3</td><td>0</td><td>3</td><td>0</td><td>0</td></tr>\n",
       "\t<tr><th scope=row>5</th><td>41</td><td>Female</td><td>2</td><td>130</td><td>204</td><td>0</td><td>2</td><td>172</td><td>0</td><td>1.4</td><td>1</td><td>0</td><td>3</td><td>0</td><td>0</td></tr>\n",
       "\t<tr><th scope=row>6</th><td>56</td><td>Male  </td><td>2</td><td>120</td><td>236</td><td>0</td><td>0</td><td>178</td><td>0</td><td>0.8</td><td>1</td><td>0</td><td>3</td><td>0</td><td>0</td></tr>\n",
       "</tbody>\n",
       "</table>\n"
      ],
      "text/latex": [
       "A data.frame: 6 × 15\n",
       "\\begin{tabular}{r|lllllllllllllll}\n",
       "  & age & sex & cp & trestbps & chol & fbs & restecg & thalach & exang & oldpeak & slope & ca & thal & class & hd\\\\\n",
       "  & <int> & <fct> & <int> & <int> & <int> & <int> & <int> & <int> & <int> & <dbl> & <int> & <int> & <int> & <int> & <dbl>\\\\\n",
       "\\hline\n",
       "\t1 & 63 & Male   & 1 & 145 & 233 & 1 & 2 & 150 & 0 & 2.3 & 3 & 0 & 6 & 0 & 0\\\\\n",
       "\t2 & 67 & Male   & 4 & 160 & 286 & 0 & 2 & 108 & 1 & 1.5 & 2 & 3 & 3 & 2 & 1\\\\\n",
       "\t3 & 67 & Male   & 4 & 120 & 229 & 0 & 2 & 129 & 1 & 2.6 & 2 & 2 & 7 & 1 & 1\\\\\n",
       "\t4 & 37 & Male   & 3 & 130 & 250 & 0 & 0 & 187 & 0 & 3.5 & 3 & 0 & 3 & 0 & 0\\\\\n",
       "\t5 & 41 & Female & 2 & 130 & 204 & 0 & 2 & 172 & 0 & 1.4 & 1 & 0 & 3 & 0 & 0\\\\\n",
       "\t6 & 56 & Male   & 2 & 120 & 236 & 0 & 0 & 178 & 0 & 0.8 & 1 & 0 & 3 & 0 & 0\\\\\n",
       "\\end{tabular}\n"
      ],
      "text/markdown": [
       "\n",
       "A data.frame: 6 × 15\n",
       "\n",
       "| <!--/--> | age &lt;int&gt; | sex &lt;fct&gt; | cp &lt;int&gt; | trestbps &lt;int&gt; | chol &lt;int&gt; | fbs &lt;int&gt; | restecg &lt;int&gt; | thalach &lt;int&gt; | exang &lt;int&gt; | oldpeak &lt;dbl&gt; | slope &lt;int&gt; | ca &lt;int&gt; | thal &lt;int&gt; | class &lt;int&gt; | hd &lt;dbl&gt; |\n",
       "|---|---|---|---|---|---|---|---|---|---|---|---|---|---|---|---|\n",
       "| 1 | 63 | Male   | 1 | 145 | 233 | 1 | 2 | 150 | 0 | 2.3 | 3 | 0 | 6 | 0 | 0 |\n",
       "| 2 | 67 | Male   | 4 | 160 | 286 | 0 | 2 | 108 | 1 | 1.5 | 2 | 3 | 3 | 2 | 1 |\n",
       "| 3 | 67 | Male   | 4 | 120 | 229 | 0 | 2 | 129 | 1 | 2.6 | 2 | 2 | 7 | 1 | 1 |\n",
       "| 4 | 37 | Male   | 3 | 130 | 250 | 0 | 0 | 187 | 0 | 3.5 | 3 | 0 | 3 | 0 | 0 |\n",
       "| 5 | 41 | Female | 2 | 130 | 204 | 0 | 2 | 172 | 0 | 1.4 | 1 | 0 | 3 | 0 | 0 |\n",
       "| 6 | 56 | Male   | 2 | 120 | 236 | 0 | 0 | 178 | 0 | 0.8 | 1 | 0 | 3 | 0 | 0 |\n",
       "\n"
      ],
      "text/plain": [
       "  age sex    cp trestbps chol fbs restecg thalach exang oldpeak slope ca thal\n",
       "1 63  Male   1  145      233  1   2       150     0     2.3     3     0  6   \n",
       "2 67  Male   4  160      286  0   2       108     1     1.5     2     3  3   \n",
       "3 67  Male   4  120      229  0   2       129     1     2.6     2     2  7   \n",
       "4 37  Male   3  130      250  0   0       187     0     3.5     3     0  3   \n",
       "5 41  Female 2  130      204  0   2       172     0     1.4     1     0  3   \n",
       "6 56  Male   2  120      236  0   0       178     0     0.8     1     0  3   \n",
       "  class hd\n",
       "1 0     0 \n",
       "2 2     1 \n",
       "3 1     1 \n",
       "4 0     0 \n",
       "5 0     0 \n",
       "6 0     0 "
      ]
     },
     "metadata": {},
     "output_type": "display_data"
    }
   ],
   "source": [
    "# load the tidyverse package\n",
    "library(tidyverse)\n",
    "# Use the 'mutate' function from dplyr to recode our data\n",
    "hd_data %>% mutate(hd = ifelse(class > 0, 1, 0))-> hd_data\n",
    "head(hd_data)\n",
    "# recode sex using mutate function and save as hd_data\n",
    "hd_data %>% mutate(sex = factor(sex, levels = c(\"0\",\"1\"), labels = c(\"Female\", \"Male\")))-> hd_data\n",
    "head(hd_data)"
   ]
  },
  {
   "cell_type": "markdown",
   "id": "1efb4dbb",
   "metadata": {
    "dc": {
     "key": "17"
    },
    "deletable": false,
    "papermill": {
     "duration": 0.006803,
     "end_time": "2022-05-15T21:38:53.714186",
     "exception": false,
     "start_time": "2022-05-15T21:38:53.707383",
     "status": "completed"
    },
    "run_control": {
     "frozen": true
    },
    "tags": [
     "context"
    ]
   },
   "source": [
    "## 3. Identifying important clinical variables\n",
    "<p>Now, let's use statistical tests to see which predictors are related to heart disease. We can explore the associations for each variable in the dataset. Depending on the type of the data (i.e., continuous or categorical), we use t-test or chi-squared test to calculate the p-values.</p>\n",
    "<p>Recall, t-test is used to determine whether there is a significant difference between the means of two groups (e.g., is the mean age from group A different from the mean age from group B?). A chi-squared test for independence compares the equivalence of two proportions.</p>"
   ]
  },
  {
   "cell_type": "code",
   "execution_count": 3,
   "id": "aac96ba9",
   "metadata": {
    "dc": {
     "key": "17"
    },
    "execution": {
     "iopub.execute_input": "2022-05-15T21:38:53.731228Z",
     "iopub.status.busy": "2022-05-15T21:38:53.729683Z",
     "iopub.status.idle": "2022-05-15T21:38:53.786046Z",
     "shell.execute_reply": "2022-05-15T21:38:53.784426Z"
    },
    "papermill": {
     "duration": 0.06724,
     "end_time": "2022-05-15T21:38:53.788344",
     "exception": false,
     "start_time": "2022-05-15T21:38:53.721104",
     "status": "completed"
    },
    "tags": [
     "sample_code"
    ]
   },
   "outputs": [
    {
     "name": "stdout",
     "output_type": "stream",
     "text": [
      "\n",
      "\tPearson's Chi-squared test with Yates' continuity correction\n",
      "\n",
      "data:  table(hd_data$sex, hd_data$hd)\n",
      "X-squared = 22.043, df = 1, p-value = 2.667e-06\n",
      "\n",
      "\n",
      "\tWelch Two Sample t-test\n",
      "\n",
      "data:  hd_data$age by hd_data$hd\n",
      "t = -4.0303, df = 300.93, p-value = 7.061e-05\n",
      "alternative hypothesis: true difference in means is not equal to 0\n",
      "95 percent confidence interval:\n",
      " -6.013385 -2.067682\n",
      "sample estimates:\n",
      "mean in group 0 mean in group 1 \n",
      "       52.58537        56.62590 \n",
      "\n",
      "\n",
      "\tWelch Two Sample t-test\n",
      "\n",
      "data:  hd_data$thalach by hd_data$hd\n",
      "t = 7.8579, df = 272.27, p-value = 9.106e-14\n",
      "alternative hypothesis: true difference in means is not equal to 0\n",
      "95 percent confidence interval:\n",
      " 14.32900 23.90912\n",
      "sample estimates:\n",
      "mean in group 0 mean in group 1 \n",
      "        158.378         139.259 \n",
      "\n",
      "[1] TRUE\n",
      "[1] TRUE\n",
      "[1] TRUE\n"
     ]
    }
   ],
   "source": [
    "# Does sex have an effect? Sex is a binary variable in this dataset,\n",
    "# so the appropriate test is chi-squared test\n",
    "hd_sex <-chisq.test(table(hd_data$sex, hd_data$hd))\n",
    "\n",
    "# Does age htave an effect? Age is continuous, so we use a t-test\n",
    "hd_age <- t.test(hd_data$age ~ hd_data$hd)\n",
    "\n",
    "# What about thalach? Thalach is continuous, so we use a t-test\n",
    "hd_heartrate <- t.test(hd_data$thalach ~ hd_data$hd)\n",
    "\n",
    "# Print the results to see if p<0.05.\n",
    "print(hd_sex)\n",
    "print(hd_age)\n",
    "print(hd_heartrate)\n",
    "print(hd_sex$p.value < 0.05)\n",
    "print(hd_age$p.value < 0.05)\n",
    "print(hd_heartrate$p.value < 0.05)"
   ]
  },
  {
   "cell_type": "markdown",
   "id": "53975cda",
   "metadata": {
    "dc": {
     "key": "24"
    },
    "deletable": false,
    "papermill": {
     "duration": 0.007175,
     "end_time": "2022-05-15T21:38:53.802834",
     "exception": false,
     "start_time": "2022-05-15T21:38:53.795659",
     "status": "completed"
    },
    "run_control": {
     "frozen": true
    },
    "tags": [
     "context"
    ]
   },
   "source": [
    "## 4. Explore the associations graphically (i)\n",
    "<p>A great image is worth a thousand words. We can plot the age, gender, and maximal heart rate distributions with respect to our outcome variable in addition to p-values from statistical tests. This will give us an idea of the relationship's direction and significance. This will give us a sense of both the direction and magnitude of the relationship.</p>\n",
    "<p>First, because age is a continuous variable, let's plot it with a boxplot.</p>"
   ]
  },
  {
   "cell_type": "code",
   "execution_count": 4,
   "id": "1464ca08",
   "metadata": {
    "dc": {
     "key": "24"
    },
    "execution": {
     "iopub.execute_input": "2022-05-15T21:38:53.820594Z",
     "iopub.status.busy": "2022-05-15T21:38:53.819077Z",
     "iopub.status.idle": "2022-05-15T21:38:54.364402Z",
     "shell.execute_reply": "2022-05-15T21:38:54.361441Z"
    },
    "papermill": {
     "duration": 0.557331,
     "end_time": "2022-05-15T21:38:54.367409",
     "exception": false,
     "start_time": "2022-05-15T21:38:53.810078",
     "status": "completed"
    },
    "tags": [
     "sample_code"
    ]
   },
   "outputs": [
    {
     "data": {
      "image/png": "[encoded data removed]"
     },
     "metadata": {
      "image/png": {
       "height": 420,
       "width": 420
      }
     },
     "output_type": "display_data"
    }
   ],
   "source": [
    "# Recode hd to be labelled\n",
    "hd_data%>%mutate(hd_labelled = ifelse(hd == 1, \"Disease\", \"No Disease\")) -> hd_data\n",
    "\n",
    "# age vs hd\n",
    "ggplot(data = hd_data, aes(x = hd_labelled,y = age)) + geom_boxplot()"
   ]
  },
  {
   "cell_type": "markdown",
   "id": "afd7a96a",
   "metadata": {
    "dc": {
     "key": "31"
    },
    "deletable": false,
    "papermill": {
     "duration": 0.008037,
     "end_time": "2022-05-15T21:38:54.383841",
     "exception": false,
     "start_time": "2022-05-15T21:38:54.375804",
     "status": "completed"
    },
    "run_control": {
     "frozen": true
    },
    "tags": [
     "context"
    ]
   },
   "source": [
    "## 5. Explore the associations graphically (ii)\n",
    "<p>Next, let's plot sex using a barplot since it is a binary variable in this dataset.</p>"
   ]
  },
  {
   "cell_type": "code",
   "execution_count": 5,
   "id": "d28b753c",
   "metadata": {
    "dc": {
     "key": "31"
    },
    "execution": {
     "iopub.execute_input": "2022-05-15T21:38:54.411668Z",
     "iopub.status.busy": "2022-05-15T21:38:54.410031Z",
     "iopub.status.idle": "2022-05-15T21:38:54.719601Z",
     "shell.execute_reply": "2022-05-15T21:38:54.717310Z"
    },
    "papermill": {
     "duration": 0.330083,
     "end_time": "2022-05-15T21:38:54.722206",
     "exception": false,
     "start_time": "2022-05-15T21:38:54.392123",
     "status": "completed"
    },
    "tags": [
     "sample_code"
    ]
   },
   "outputs": [
    {
     "data": {
      "image/png": "[encoded data removed]"
     },
     "metadata": {
      "image/png": {
       "height": 420,
       "width": 420
      }
     },
     "output_type": "display_data"
    }
   ],
   "source": [
    "# sex vs hd\n",
    "ggplot(data = hd_data,aes(sex, fill = hd_labelled)) + geom_bar(position = \"fill\") + ylab(\"Sex %\")"
   ]
  },
  {
   "cell_type": "markdown",
   "id": "7387ae0c",
   "metadata": {
    "dc": {
     "key": "38"
    },
    "deletable": false,
    "papermill": {
     "duration": 0.00827,
     "end_time": "2022-05-15T21:38:54.739445",
     "exception": false,
     "start_time": "2022-05-15T21:38:54.731175",
     "status": "completed"
    },
    "run_control": {
     "frozen": true
    },
    "tags": [
     "context"
    ]
   },
   "source": [
    "## 6. Explore the associations graphically (iii)\n",
    "<p>And finally, let's plot thalach using a boxplot since it is a continuous variable.</p>"
   ]
  },
  {
   "cell_type": "code",
   "execution_count": 6,
   "id": "9d10d397",
   "metadata": {
    "dc": {
     "key": "38"
    },
    "execution": {
     "iopub.execute_input": "2022-05-15T21:38:54.759618Z",
     "iopub.status.busy": "2022-05-15T21:38:54.757939Z",
     "iopub.status.idle": "2022-05-15T21:38:54.973466Z",
     "shell.execute_reply": "2022-05-15T21:38:54.971743Z"
    },
    "papermill": {
     "duration": 0.228107,
     "end_time": "2022-05-15T21:38:54.975911",
     "exception": false,
     "start_time": "2022-05-15T21:38:54.747804",
     "status": "completed"
    },
    "tags": [
     "sample_code"
    ]
   },
   "outputs": [
    {
     "data": {
      "image/png": "[encoded data removed]"
     },
     "metadata": {
      "image/png": {
       "height": 420,
       "width": 420
      }
     },
     "output_type": "display_data"
    }
   ],
   "source": [
    "# max heart rate vs hd\n",
    "ggplot(data = hd_data,aes(hd_labelled, thalach)) + geom_boxplot()"
   ]
  },
  {
   "cell_type": "markdown",
   "id": "d2bf1863",
   "metadata": {
    "dc": {
     "key": "45"
    },
    "deletable": false,
    "papermill": {
     "duration": 0.008686,
     "end_time": "2022-05-15T21:38:54.993573",
     "exception": false,
     "start_time": "2022-05-15T21:38:54.984887",
     "status": "completed"
    },
    "run_control": {
     "frozen": true
    },
    "tags": [
     "context"
    ]
   },
   "source": [
    "## 7. Putting all three variables in one model\n",
    "<p>The plots and the statistical tests both confirmed that all the three variables are highly significantly associated with our outcome (p&lt;0.001 for all tests). </p>\n",
    "<p>In general, we want to use multiple logistic regression when we have one binary outcome variable and two or more predicting variables. The binary variable is the dependent (Y) variable; we are studying the effect that the independent (X) variables have on the probability of obtaining a particular value of the dependent variable. For example, we might want to know the effect that maximum heart rate, age, and sex have on the probability that a person will have a heart disease in the next year. The model will also tell us what the remaining effect of maximum heart rate is after we control or adjust for the effects of the other two effectors. </p>\n",
    "<p>The <code>glm()</code> command is designed to perform generalized linear models (regressions) on binary outcome data, count data, probability data, proportion data, and many other data types. In our case, the outcome is binary following a binomial distribution.</p>"
   ]
  },
  {
   "cell_type": "code",
   "execution_count": 7,
   "id": "40eb4a56",
   "metadata": {
    "dc": {
     "key": "45"
    },
    "execution": {
     "iopub.execute_input": "2022-05-15T21:38:55.014321Z",
     "iopub.status.busy": "2022-05-15T21:38:55.012660Z",
     "iopub.status.idle": "2022-05-15T21:38:55.056683Z",
     "shell.execute_reply": "2022-05-15T21:38:55.054485Z"
    },
    "papermill": {
     "duration": 0.056919,
     "end_time": "2022-05-15T21:38:55.059130",
     "exception": false,
     "start_time": "2022-05-15T21:38:55.002211",
     "status": "completed"
    },
    "tags": [
     "sample_code"
    ]
   },
   "outputs": [
    {
     "data": {
      "text/plain": [
       "\n",
       "Call:\n",
       "glm(formula = hd ~ age + sex + thalach, family = \"binomial\", \n",
       "    data = hd_data)\n",
       "\n",
       "Deviance Residuals: \n",
       "    Min       1Q   Median       3Q      Max  \n",
       "-2.2250  -0.8486  -0.4570   0.9043   2.1156  \n",
       "\n",
       "Coefficients:\n",
       "             Estimate Std. Error z value Pr(>|z|)    \n",
       "(Intercept)  3.111610   1.607466   1.936   0.0529 .  \n",
       "age          0.031886   0.016440   1.940   0.0524 .  \n",
       "sexMale      1.491902   0.307193   4.857 1.19e-06 ***\n",
       "thalach     -0.040541   0.007073  -5.732 9.93e-09 ***\n",
       "---\n",
       "Signif. codes:  0 ‘***’ 0.001 ‘**’ 0.01 ‘*’ 0.05 ‘.’ 0.1 ‘ ’ 1\n",
       "\n",
       "(Dispersion parameter for binomial family taken to be 1)\n",
       "\n",
       "    Null deviance: 417.98  on 302  degrees of freedom\n",
       "Residual deviance: 332.85  on 299  degrees of freedom\n",
       "AIC: 340.85\n",
       "\n",
       "Number of Fisher Scoring iterations: 4\n"
      ]
     },
     "metadata": {},
     "output_type": "display_data"
    }
   ],
   "source": [
    "# use glm function from base R and specify the family argument as binomial\n",
    "model <- glm(data = hd_data, hd ~ age + sex + thalach, family = \"binomial\")\n",
    "\n",
    "# extract the model summary\n",
    "summary(model)"
   ]
  },
  {
   "cell_type": "markdown",
   "id": "3b222182",
   "metadata": {
    "dc": {
     "key": "52"
    },
    "deletable": false,
    "papermill": {
     "duration": 0.009048,
     "end_time": "2022-05-15T21:38:55.077123",
     "exception": false,
     "start_time": "2022-05-15T21:38:55.068075",
     "status": "completed"
    },
    "run_control": {
     "frozen": true
    },
    "tags": [
     "context"
    ]
   },
   "source": [
    "## 8. Extracting useful information from the model output\n",
    "<p>It's common practice in medical research to report Odds Ratio (OR) to quantify how strongly the presence or absence of property A is associated with the presence or absence of the outcome. When the OR is greater than 1, we say A is positively associated with outcome B (increases the Odds of having B). Otherwise, we say A is negatively associated with B (decreases the Odds of having B).</p>\n",
    "<p>The raw glm coefficient table (the 'estimate' column in the printed output) in R represents the log(Odds Ratios) of the outcome. Therefore, we need to convert the values to the original OR scale and calculate the corresponding 95% Confidence Interval (CI) of the estimated Odds Ratios when reporting results from a logistic regression. </p>"
   ]
  },
  {
   "cell_type": "code",
   "execution_count": 8,
   "id": "ee3405e5",
   "metadata": {
    "dc": {
     "key": "52"
    },
    "execution": {
     "iopub.execute_input": "2022-05-15T21:38:55.098047Z",
     "iopub.status.busy": "2022-05-15T21:38:55.096363Z",
     "iopub.status.idle": "2022-05-15T21:38:55.170916Z",
     "shell.execute_reply": "2022-05-15T21:38:55.169013Z"
    },
    "papermill": {
     "duration": 0.087415,
     "end_time": "2022-05-15T21:38:55.173322",
     "exception": false,
     "start_time": "2022-05-15T21:38:55.085907",
     "status": "completed"
    },
    "tags": [
     "sample_code"
    ]
   },
   "outputs": [
    {
     "data": {
      "text/html": [
       "<table class=\"dataframe\">\n",
       "<caption>A tibble: 4 × 5</caption>\n",
       "<thead>\n",
       "\t<tr><th scope=col>term</th><th scope=col>estimate</th><th scope=col>std.error</th><th scope=col>statistic</th><th scope=col>p.value</th></tr>\n",
       "\t<tr><th scope=col>&lt;chr&gt;</th><th scope=col>&lt;dbl&gt;</th><th scope=col>&lt;dbl&gt;</th><th scope=col>&lt;dbl&gt;</th><th scope=col>&lt;dbl&gt;</th></tr>\n",
       "</thead>\n",
       "<tbody>\n",
       "\t<tr><td>(Intercept)</td><td> 3.11161046</td><td>1.607466382</td><td> 1.935724</td><td>5.290157e-02</td></tr>\n",
       "\t<tr><td>age        </td><td> 0.03188572</td><td>0.016439824</td><td> 1.939541</td><td>5.243548e-02</td></tr>\n",
       "\t<tr><td>sexMale    </td><td> 1.49190218</td><td>0.307192627</td><td> 4.856569</td><td>1.194372e-06</td></tr>\n",
       "\t<tr><td>thalach    </td><td>-0.04054143</td><td>0.007072952</td><td>-5.731897</td><td>9.931367e-09</td></tr>\n",
       "</tbody>\n",
       "</table>\n"
      ],
      "text/latex": [
       "A tibble: 4 × 5\n",
       "\\begin{tabular}{lllll}\n",
       " term & estimate & std.error & statistic & p.value\\\\\n",
       " <chr> & <dbl> & <dbl> & <dbl> & <dbl>\\\\\n",
       "\\hline\n",
       "\t (Intercept) &  3.11161046 & 1.607466382 &  1.935724 & 5.290157e-02\\\\\n",
       "\t age         &  0.03188572 & 0.016439824 &  1.939541 & 5.243548e-02\\\\\n",
       "\t sexMale     &  1.49190218 & 0.307192627 &  4.856569 & 1.194372e-06\\\\\n",
       "\t thalach     & -0.04054143 & 0.007072952 & -5.731897 & 9.931367e-09\\\\\n",
       "\\end{tabular}\n"
      ],
      "text/markdown": [
       "\n",
       "A tibble: 4 × 5\n",
       "\n",
       "| term &lt;chr&gt; | estimate &lt;dbl&gt; | std.error &lt;dbl&gt; | statistic &lt;dbl&gt; | p.value &lt;dbl&gt; |\n",
       "|---|---|---|---|---|\n",
       "| (Intercept) |  3.11161046 | 1.607466382 |  1.935724 | 5.290157e-02 |\n",
       "| age         |  0.03188572 | 0.016439824 |  1.939541 | 5.243548e-02 |\n",
       "| sexMale     |  1.49190218 | 0.307192627 |  4.856569 | 1.194372e-06 |\n",
       "| thalach     | -0.04054143 | 0.007072952 | -5.731897 | 9.931367e-09 |\n",
       "\n"
      ],
      "text/plain": [
       "  term        estimate    std.error   statistic p.value     \n",
       "1 (Intercept)  3.11161046 1.607466382  1.935724 5.290157e-02\n",
       "2 age          0.03188572 0.016439824  1.939541 5.243548e-02\n",
       "3 sexMale      1.49190218 0.307192627  4.856569 1.194372e-06\n",
       "4 thalach     -0.04054143 0.007072952 -5.731897 9.931367e-09"
      ]
     },
     "metadata": {},
     "output_type": "display_data"
    },
    {
     "data": {
      "text/html": [
       "<table class=\"dataframe\">\n",
       "<caption>A tibble: 4 × 8</caption>\n",
       "<thead>\n",
       "\t<tr><th scope=col>term</th><th scope=col>estimate</th><th scope=col>std.error</th><th scope=col>statistic</th><th scope=col>p.value</th><th scope=col>OR</th><th scope=col>lower_CI</th><th scope=col>upper_CI</th></tr>\n",
       "\t<tr><th scope=col>&lt;chr&gt;</th><th scope=col>&lt;dbl&gt;</th><th scope=col>&lt;dbl&gt;</th><th scope=col>&lt;dbl&gt;</th><th scope=col>&lt;dbl&gt;</th><th scope=col>&lt;dbl&gt;</th><th scope=col>&lt;dbl&gt;</th><th scope=col>&lt;dbl&gt;</th></tr>\n",
       "</thead>\n",
       "<tbody>\n",
       "\t<tr><td>(Intercept)</td><td> 3.11161046</td><td>1.607466382</td><td> 1.935724</td><td>5.290157e-02</td><td>22.4571817</td><td>0.9617280</td><td>524.3946593</td></tr>\n",
       "\t<tr><td>age        </td><td> 0.03188572</td><td>0.016439824</td><td> 1.939541</td><td>5.243548e-02</td><td> 1.0323995</td><td>0.9996637</td><td>  1.0662073</td></tr>\n",
       "\t<tr><td>sexMale    </td><td> 1.49190218</td><td>0.307192627</td><td> 4.856569</td><td>1.194372e-06</td><td> 4.4455437</td><td>2.4346539</td><td>  8.1173174</td></tr>\n",
       "\t<tr><td>thalach    </td><td>-0.04054143</td><td>0.007072952</td><td>-5.731897</td><td>9.931367e-09</td><td> 0.9602694</td><td>0.9470490</td><td>  0.9736743</td></tr>\n",
       "</tbody>\n",
       "</table>\n"
      ],
      "text/latex": [
       "A tibble: 4 × 8\n",
       "\\begin{tabular}{llllllll}\n",
       " term & estimate & std.error & statistic & p.value & OR & lower\\_CI & upper\\_CI\\\\\n",
       " <chr> & <dbl> & <dbl> & <dbl> & <dbl> & <dbl> & <dbl> & <dbl>\\\\\n",
       "\\hline\n",
       "\t (Intercept) &  3.11161046 & 1.607466382 &  1.935724 & 5.290157e-02 & 22.4571817 & 0.9617280 & 524.3946593\\\\\n",
       "\t age         &  0.03188572 & 0.016439824 &  1.939541 & 5.243548e-02 &  1.0323995 & 0.9996637 &   1.0662073\\\\\n",
       "\t sexMale     &  1.49190218 & 0.307192627 &  4.856569 & 1.194372e-06 &  4.4455437 & 2.4346539 &   8.1173174\\\\\n",
       "\t thalach     & -0.04054143 & 0.007072952 & -5.731897 & 9.931367e-09 &  0.9602694 & 0.9470490 &   0.9736743\\\\\n",
       "\\end{tabular}\n"
      ],
      "text/markdown": [
       "\n",
       "A tibble: 4 × 8\n",
       "\n",
       "| term &lt;chr&gt; | estimate &lt;dbl&gt; | std.error &lt;dbl&gt; | statistic &lt;dbl&gt; | p.value &lt;dbl&gt; | OR &lt;dbl&gt; | lower_CI &lt;dbl&gt; | upper_CI &lt;dbl&gt; |\n",
       "|---|---|---|---|---|---|---|---|\n",
       "| (Intercept) |  3.11161046 | 1.607466382 |  1.935724 | 5.290157e-02 | 22.4571817 | 0.9617280 | 524.3946593 |\n",
       "| age         |  0.03188572 | 0.016439824 |  1.939541 | 5.243548e-02 |  1.0323995 | 0.9996637 |   1.0662073 |\n",
       "| sexMale     |  1.49190218 | 0.307192627 |  4.856569 | 1.194372e-06 |  4.4455437 | 2.4346539 |   8.1173174 |\n",
       "| thalach     | -0.04054143 | 0.007072952 | -5.731897 | 9.931367e-09 |  0.9602694 | 0.9470490 |   0.9736743 |\n",
       "\n"
      ],
      "text/plain": [
       "  term        estimate    std.error   statistic p.value      OR        \n",
       "1 (Intercept)  3.11161046 1.607466382  1.935724 5.290157e-02 22.4571817\n",
       "2 age          0.03188572 0.016439824  1.939541 5.243548e-02  1.0323995\n",
       "3 sexMale      1.49190218 0.307192627  4.856569 1.194372e-06  4.4455437\n",
       "4 thalach     -0.04054143 0.007072952 -5.731897 9.931367e-09  0.9602694\n",
       "  lower_CI  upper_CI   \n",
       "1 0.9617280 524.3946593\n",
       "2 0.9996637   1.0662073\n",
       "3 2.4346539   8.1173174\n",
       "4 0.9470490   0.9736743"
      ]
     },
     "metadata": {},
     "output_type": "display_data"
    }
   ],
   "source": [
    "# load the broom package\n",
    "library(broom)\n",
    "# tidy up the coefficient table\n",
    "tidy_m <- tidy(model)\n",
    "tidy_m\n",
    "\n",
    "# calculate OR\n",
    "tidy_m$OR <- exp(tidy_m$estimate)\n",
    "\n",
    "# calculate 95% CI and save as lower CI and upper CI\n",
    "tidy_m$lower_CI <- exp(tidy_m$estimate - 1.96 * tidy_m$std.error)\n",
    "tidy_m$upper_CI <- exp(tidy_m$estimate + 1.96 * tidy_m$std.error)\n",
    "\n",
    "# display the updated coefficient table\n",
    "tidy_m"
   ]
  },
  {
   "cell_type": "markdown",
   "id": "8dc93b53",
   "metadata": {
    "dc": {
     "key": "59"
    },
    "deletable": false,
    "papermill": {
     "duration": 0.009196,
     "end_time": "2022-05-15T21:38:55.191830",
     "exception": false,
     "start_time": "2022-05-15T21:38:55.182634",
     "status": "completed"
    },
    "run_control": {
     "frozen": true
    },
    "tags": [
     "context"
    ]
   },
   "source": [
    "## 9. Predicted probabilities from our model\n",
    "<p>So far, we have built a logistic regression model and examined the model coefficients/ORs. We may wonder how can we use this model we developed to predict a person's likelihood of having heart disease given his/her age, sex, and maximum heart rate. Furthermore, we'd like to translate the predicted probability into a decision rule for clinical use by defining a cutoff value on the probability scale. In practice, when an individual comes in for a health check-up, the doctor would like to know the predicted probability of heart disease, for specific values of the predictors: a 45-year-old female with a max heart rate of 150. To do that, we create a data frame called newdata, in which we include the desired values for our prediction.</p>"
   ]
  },
  {
   "cell_type": "code",
   "execution_count": 9,
   "id": "15324575",
   "metadata": {
    "dc": {
     "key": "59"
    },
    "execution": {
     "iopub.execute_input": "2022-05-15T21:38:55.213669Z",
     "iopub.status.busy": "2022-05-15T21:38:55.211881Z",
     "iopub.status.idle": "2022-05-15T21:38:55.264971Z",
     "shell.execute_reply": "2022-05-15T21:38:55.263094Z"
    },
    "papermill": {
     "duration": 0.073929,
     "end_time": "2022-05-15T21:38:55.274844",
     "exception": false,
     "start_time": "2022-05-15T21:38:55.200915",
     "status": "completed"
    },
    "tags": [
     "sample_code"
    ]
   },
   "outputs": [
    {
     "data": {
      "text/html": [
       "<table class=\"dataframe\">\n",
       "<caption>A data.frame: 6 × 17</caption>\n",
       "<thead>\n",
       "\t<tr><th></th><th scope=col>age</th><th scope=col>sex</th><th scope=col>cp</th><th scope=col>trestbps</th><th scope=col>chol</th><th scope=col>fbs</th><th scope=col>restecg</th><th scope=col>thalach</th><th scope=col>exang</th><th scope=col>oldpeak</th><th scope=col>slope</th><th scope=col>ca</th><th scope=col>thal</th><th scope=col>class</th><th scope=col>hd</th><th scope=col>hd_labelled</th><th scope=col>pred_hd</th></tr>\n",
       "\t<tr><th></th><th scope=col>&lt;int&gt;</th><th scope=col>&lt;fct&gt;</th><th scope=col>&lt;int&gt;</th><th scope=col>&lt;int&gt;</th><th scope=col>&lt;int&gt;</th><th scope=col>&lt;int&gt;</th><th scope=col>&lt;int&gt;</th><th scope=col>&lt;int&gt;</th><th scope=col>&lt;int&gt;</th><th scope=col>&lt;dbl&gt;</th><th scope=col>&lt;int&gt;</th><th scope=col>&lt;int&gt;</th><th scope=col>&lt;int&gt;</th><th scope=col>&lt;int&gt;</th><th scope=col>&lt;dbl&gt;</th><th scope=col>&lt;chr&gt;</th><th scope=col>&lt;dbl&gt;</th></tr>\n",
       "</thead>\n",
       "<tbody>\n",
       "\t<tr><th scope=row>1</th><td>63</td><td>Male  </td><td>1</td><td>145</td><td>233</td><td>1</td><td>2</td><td>150</td><td>0</td><td>2.3</td><td>3</td><td>0</td><td>6</td><td>0</td><td>0</td><td>No Disease</td><td>1</td></tr>\n",
       "\t<tr><th scope=row>2</th><td>67</td><td>Male  </td><td>4</td><td>160</td><td>286</td><td>0</td><td>2</td><td>108</td><td>1</td><td>1.5</td><td>2</td><td>3</td><td>3</td><td>2</td><td>1</td><td>Disease   </td><td>1</td></tr>\n",
       "\t<tr><th scope=row>3</th><td>67</td><td>Male  </td><td>4</td><td>120</td><td>229</td><td>0</td><td>2</td><td>129</td><td>1</td><td>2.6</td><td>2</td><td>2</td><td>7</td><td>1</td><td>1</td><td>Disease   </td><td>1</td></tr>\n",
       "\t<tr><th scope=row>4</th><td>37</td><td>Male  </td><td>3</td><td>130</td><td>250</td><td>0</td><td>0</td><td>187</td><td>0</td><td>3.5</td><td>3</td><td>0</td><td>3</td><td>0</td><td>0</td><td>No Disease</td><td>0</td></tr>\n",
       "\t<tr><th scope=row>5</th><td>41</td><td>Female</td><td>2</td><td>130</td><td>204</td><td>0</td><td>2</td><td>172</td><td>0</td><td>1.4</td><td>1</td><td>0</td><td>3</td><td>0</td><td>0</td><td>No Disease</td><td>0</td></tr>\n",
       "\t<tr><th scope=row>6</th><td>56</td><td>Male  </td><td>2</td><td>120</td><td>236</td><td>0</td><td>0</td><td>178</td><td>0</td><td>0.8</td><td>1</td><td>0</td><td>3</td><td>0</td><td>0</td><td>No Disease</td><td>0</td></tr>\n",
       "</tbody>\n",
       "</table>\n"
      ],
      "text/latex": [
       "A data.frame: 6 × 17\n",
       "\\begin{tabular}{r|lllllllllllllllll}\n",
       "  & age & sex & cp & trestbps & chol & fbs & restecg & thalach & exang & oldpeak & slope & ca & thal & class & hd & hd\\_labelled & pred\\_hd\\\\\n",
       "  & <int> & <fct> & <int> & <int> & <int> & <int> & <int> & <int> & <int> & <dbl> & <int> & <int> & <int> & <int> & <dbl> & <chr> & <dbl>\\\\\n",
       "\\hline\n",
       "\t1 & 63 & Male   & 1 & 145 & 233 & 1 & 2 & 150 & 0 & 2.3 & 3 & 0 & 6 & 0 & 0 & No Disease & 1\\\\\n",
       "\t2 & 67 & Male   & 4 & 160 & 286 & 0 & 2 & 108 & 1 & 1.5 & 2 & 3 & 3 & 2 & 1 & Disease    & 1\\\\\n",
       "\t3 & 67 & Male   & 4 & 120 & 229 & 0 & 2 & 129 & 1 & 2.6 & 2 & 2 & 7 & 1 & 1 & Disease    & 1\\\\\n",
       "\t4 & 37 & Male   & 3 & 130 & 250 & 0 & 0 & 187 & 0 & 3.5 & 3 & 0 & 3 & 0 & 0 & No Disease & 0\\\\\n",
       "\t5 & 41 & Female & 2 & 130 & 204 & 0 & 2 & 172 & 0 & 1.4 & 1 & 0 & 3 & 0 & 0 & No Disease & 0\\\\\n",
       "\t6 & 56 & Male   & 2 & 120 & 236 & 0 & 0 & 178 & 0 & 0.8 & 1 & 0 & 3 & 0 & 0 & No Disease & 0\\\\\n",
       "\\end{tabular}\n"
      ],
      "text/markdown": [
       "\n",
       "A data.frame: 6 × 17\n",
       "\n",
       "| <!--/--> | age &lt;int&gt; | sex &lt;fct&gt; | cp &lt;int&gt; | trestbps &lt;int&gt; | chol &lt;int&gt; | fbs &lt;int&gt; | restecg &lt;int&gt; | thalach &lt;int&gt; | exang &lt;int&gt; | oldpeak &lt;dbl&gt; | slope &lt;int&gt; | ca &lt;int&gt; | thal &lt;int&gt; | class &lt;int&gt; | hd &lt;dbl&gt; | hd_labelled &lt;chr&gt; | pred_hd &lt;dbl&gt; |\n",
       "|---|---|---|---|---|---|---|---|---|---|---|---|---|---|---|---|---|---|\n",
       "| 1 | 63 | Male   | 1 | 145 | 233 | 1 | 2 | 150 | 0 | 2.3 | 3 | 0 | 6 | 0 | 0 | No Disease | 1 |\n",
       "| 2 | 67 | Male   | 4 | 160 | 286 | 0 | 2 | 108 | 1 | 1.5 | 2 | 3 | 3 | 2 | 1 | Disease    | 1 |\n",
       "| 3 | 67 | Male   | 4 | 120 | 229 | 0 | 2 | 129 | 1 | 2.6 | 2 | 2 | 7 | 1 | 1 | Disease    | 1 |\n",
       "| 4 | 37 | Male   | 3 | 130 | 250 | 0 | 0 | 187 | 0 | 3.5 | 3 | 0 | 3 | 0 | 0 | No Disease | 0 |\n",
       "| 5 | 41 | Female | 2 | 130 | 204 | 0 | 2 | 172 | 0 | 1.4 | 1 | 0 | 3 | 0 | 0 | No Disease | 0 |\n",
       "| 6 | 56 | Male   | 2 | 120 | 236 | 0 | 0 | 178 | 0 | 0.8 | 1 | 0 | 3 | 0 | 0 | No Disease | 0 |\n",
       "\n"
      ],
      "text/plain": [
       "  age sex    cp trestbps chol fbs restecg thalach exang oldpeak slope ca thal\n",
       "1 63  Male   1  145      233  1   2       150     0     2.3     3     0  6   \n",
       "2 67  Male   4  160      286  0   2       108     1     1.5     2     3  3   \n",
       "3 67  Male   4  120      229  0   2       129     1     2.6     2     2  7   \n",
       "4 37  Male   3  130      250  0   0       187     0     3.5     3     0  3   \n",
       "5 41  Female 2  130      204  0   2       172     0     1.4     1     0  3   \n",
       "6 56  Male   2  120      236  0   0       178     0     0.8     1     0  3   \n",
       "  class hd hd_labelled pred_hd\n",
       "1 0     0  No Disease  1      \n",
       "2 2     1  Disease     1      \n",
       "3 1     1  Disease     1      \n",
       "4 0     0  No Disease  0      \n",
       "5 0     0  No Disease  0      \n",
       "6 0     0  No Disease  0      "
      ]
     },
     "metadata": {},
     "output_type": "display_data"
    },
    {
     "data": {
      "text/html": [
       "<strong>1:</strong> 0.177300249223782"
      ],
      "text/latex": [
       "\\textbf{1:} 0.177300249223782"
      ],
      "text/markdown": [
       "**1:** 0.177300249223782"
      ],
      "text/plain": [
       "        1 \n",
       "0.1773002 "
      ]
     },
     "metadata": {},
     "output_type": "display_data"
    }
   ],
   "source": [
    "# get the predicted probability in our dataset using the predict() function\n",
    "pred_prob <- predict(model, hd_data, type = \"response\")\n",
    "\n",
    "# create a decision rule using probability 0.5 as cutoff and save the predicted decision into the main data frame\n",
    "hd_data$pred_hd <- ifelse(pred_prob >= 0.5, 1, 0)\n",
    "head(hd_data)\n",
    "\n",
    "# create a newdata data frame to save a new case information\n",
    "newdata <- data.frame(age = 45, sex = \"Female\", thalach = 150)\n",
    "\n",
    "# predict probability for this new case and print out the predicted value\n",
    "p_new <- predict(model,newdata, type = \"response\")\n",
    "p_new"
   ]
  },
  {
   "cell_type": "markdown",
   "id": "bb1355c4",
   "metadata": {
    "dc": {
     "key": "66"
    },
    "deletable": false,
    "papermill": {
     "duration": 0.009529,
     "end_time": "2022-05-15T21:38:55.294310",
     "exception": false,
     "start_time": "2022-05-15T21:38:55.284781",
     "status": "completed"
    },
    "run_control": {
     "frozen": true
    },
    "tags": [
     "context"
    ]
   },
   "source": [
    "## 10. Model performance metrics\n",
    "<p>Are the predictions accurate? How well does the model fit our data? We are going to use some common metrics to evaluate the model performance. The most straightforward one is Accuracy, which is the proportion of the total number of predictions that were correct. On the other hand, we can calculate the classification error rate using 1- accuracy. However, accuracy can be misleading when the response is rare (i.e., imbalanced response). Another popular metric, Area Under the ROC curve (AUC), has the advantage that it's independent of the change in the proportion of responders. AUC ranges from 0 to 1. The closer it gets to 1 the better the model performance. Lastly, a confusion matrix is an N X N matrix, where N is the level of outcome. For the problem at hand, we have N=2, and hence we get a 2 X 2 matrix. It cross-tabulates the predicted outcome levels against the true outcome levels.</p>\n",
    "<p>After these metrics are calculated, we'll see (from the logistic regression OR table) that older age, being male and having a lower max heart rate are all risk factors for heart disease. We can also apply our model to predict the probability of having heart disease. For a 45 years old female who has a max heart rate of 150, our model generated a heart disease probability of 0.177 indicating low risk of heart disease. Although our model has an overall accuracy of 0.71, there are cases that were misclassified as shown in the confusion matrix. One way to improve our current model is to include other relevant predictors from the dataset into our model, but that's a task for another day!</p>"
   ]
  },
  {
   "cell_type": "code",
   "execution_count": 10,
   "id": "26afa617",
   "metadata": {
    "dc": {
     "key": "66"
    },
    "execution": {
     "iopub.execute_input": "2022-05-15T21:38:55.316956Z",
     "iopub.status.busy": "2022-05-15T21:38:55.315259Z",
     "iopub.status.idle": "2022-05-15T21:38:55.372866Z",
     "shell.execute_reply": "2022-05-15T21:38:55.371103Z"
    },
    "papermill": {
     "duration": 0.071418,
     "end_time": "2022-05-15T21:38:55.375284",
     "exception": false,
     "start_time": "2022-05-15T21:38:55.303866",
     "status": "completed"
    },
    "tags": [
     "sample_code"
    ]
   },
   "outputs": [
    {
     "name": "stdout",
     "output_type": "stream",
     "text": [
      "[1] \"AUC= 0.706483593612915\"\n",
      "[1] \"Accuracy= 0.70957095709571\"\n",
      "[1] \"Classification Error= 0.29042904290429\"\n"
     ]
    },
    {
     "data": {
      "text/plain": [
       "           Predicted Status\n",
       "True Status   0   1\n",
       "          0 122  42\n",
       "          1  46  93"
      ]
     },
     "metadata": {},
     "output_type": "display_data"
    }
   ],
   "source": [
    "# load Metrics package\n",
    "library(Metrics)\n",
    "\n",
    "# calculate auc, accuracy, clasification error\n",
    "auc <- auc(hd_data$hd,hd_data$pred_hd)\n",
    "accuracy <- accuracy(hd_data$hd,hd_data$pred_hd)\n",
    "classification_error <- ce(hd_data$hd,hd_data$pred_hd)\n",
    "\n",
    "# print out the metrics on to screen\n",
    "print(paste(\"AUC=\", auc))\n",
    "print(paste(\"Accuracy=\", accuracy))\n",
    "print(paste(\"Classification Error=\", classification_error))\n",
    "\n",
    "# confusion matrix\n",
    "table(hd_data$hd,hd_data$pred_hd, dnn=c('True Status','Predicted Status')) # confusion matrix"
   ]
  }
 ],
 "metadata": {
  "kernelspec": {
   "display_name": "R",
   "language": "R",
   "name": "ir"
  },
  "language_info": {
   "codemirror_mode": "r",
   "file_extension": ".r",
   "mimetype": "text/x-r-source",
   "name": "R",
   "pygments_lexer": "r",
   "version": "4.0.5"
  },
  "papermill": {
   "default_parameters": {},
   "duration": 6.723783,
   "end_time": "2022-05-15T21:38:55.506234",
   "environment_variables": {},
   "exception": null,
   "input_path": "__notebook__.ipynb",
   "output_path": "__notebook__.ipynb",
   "parameters": {},
   "start_time": "2022-05-15T21:38:48.782451",
   "version": "2.3.4"
  }
 },
 "nbformat": 4,
 "nbformat_minor": 5
}
